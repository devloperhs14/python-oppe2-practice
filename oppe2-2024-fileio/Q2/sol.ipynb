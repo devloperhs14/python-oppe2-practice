{
 "cells": [
  {
   "cell_type": "markdown",
   "metadata": {},
   "source": [
    "# Question & Understanding"
   ]
  },
  {
   "cell_type": "markdown",
   "metadata": {},
   "source": [
    "From the given file (testcase.txt) return the most frequent alphabetic characters (case-sensitive) in all lines. \n",
    "\n",
    "If no character presents return empty list.\n",
    "\n",
    "```python\n",
    "def most_frequent_alpha_character(filename: str) -> list:\n",
    "    '''\n",
    "    Arguments:\n",
    "    filename: str - name of the file\n",
    "\n",
    "    Return:\n",
    "    list - the most frequent alphabetic characters (case-sensitive)\n",
    "    \n",
    "    ...\n",
    "\n",
    "```"
   ]
  },
  {
   "cell_type": "markdown",
   "metadata": {},
   "source": [
    "# Logic"
   ]
  },
  {
   "cell_type": "markdown",
   "metadata": {},
   "source": [
    "Open and Read File\n",
    "- Read all lines of the file.\n",
    "- Combine all the sentences\n",
    "\n",
    "Count Alphabetic Characters\n",
    "\n",
    "- Ignore non-alphabetic characters.\n",
    "- Use a dictionary to count the frequency of each character (case-sensitive).\n",
    "\n",
    "Find Maximum Frequency\n",
    "\n",
    "- Determine the highest frequency.\n",
    "- Find all characters with this frequency.\n",
    "\n",
    "Handle Edge Cases\n",
    "\n",
    "- If there are no alphabetic characters, return an empty list.\n",
    "- Else return the most frequent character list\n",
    "\n",
    "\n",
    "Note : Keep track of the values using dict and list / I am going with list"
   ]
  },
  {
   "cell_type": "markdown",
   "metadata": {},
   "source": [
    "# The Code"
   ]
  },
  {
   "cell_type": "code",
   "execution_count": 23,
   "metadata": {},
   "outputs": [
    {
     "name": "stdout",
     "output_type": "stream",
     "text": [
      "['e']\n"
     ]
    }
   ],
   "source": [
    "filename = \"testcase.txt\"\n",
    "\n",
    "# Read the file\n",
    "# Combine all lines into a single string\n",
    "# Filter only alphabetic characters\n",
    "# If no alphabetic characters are found, return an empty list\n",
    "# Find the maximum frequency in dict\n",
    "# Find all characters with the maximum frequency\n",
    "\n",
    "with open(filename, 'r') as file:\n",
    "    lines = file.readlines()\n",
    "\n",
    "all_text = \"\".join(lines)\n",
    "\n",
    "char_count = {}\n",
    "\n",
    "for char in all_text:\n",
    "    if char.isalpha():\n",
    "        if char in char_count:\n",
    "            char_count[char] += 1\n",
    "        else:\n",
    "            char_count[char] = 1\n",
    "        \n",
    "if  not char_count:\n",
    "    print([])\n",
    "\n",
    "most_frequent_char = []\n",
    "\n",
    "max_freq = max(char_count.values()) #max value\n",
    "\n",
    "for char, count in char_count.items():\n",
    "    if count == max_freq:\n",
    "        most_frequent_char.append(char)\n",
    "\n",
    "print(most_frequent_char)\n",
    "\n",
    "\n",
    "\n"
   ]
  },
  {
   "cell_type": "code",
   "execution_count": 24,
   "metadata": {},
   "outputs": [],
   "source": [
    "def most_frequent_alpha_character(filename: str) -> list:\n",
    "    '''\n",
    "    Arguments:\n",
    "    filename: str - name of the file\n",
    "\n",
    "    Return:\n",
    "    list - the most frequent alphabetic characters (case-sensitive)\n",
    "    '''\n",
    "    with open(filename, 'r') as file:\n",
    "        lines = file.readlines()\n",
    "\n",
    "    all_text = \"\".join(lines)\n",
    "\n",
    "    char_count = {}\n",
    "\n",
    "    for char in all_text:\n",
    "        if char.isalpha():\n",
    "            if char in char_count:\n",
    "                char_count[char] += 1\n",
    "            else:\n",
    "                char_count[char] = 1\n",
    "        \n",
    "    if  not char_count:\n",
    "        return []\n",
    "\n",
    "    most_frequent_char = []\n",
    "\n",
    "    max_freq = max(char_count.values()) #max value\n",
    "\n",
    "    for char, count in char_count.items():\n",
    "        if count == max_freq:\n",
    "            most_frequent_char.append(char)\n",
    "    \n",
    "    return most_frequent_char\n",
    "    \n"
   ]
  },
  {
   "cell_type": "markdown",
   "metadata": {},
   "source": [
    "# Output"
   ]
  },
  {
   "cell_type": "code",
   "execution_count": 27,
   "metadata": {},
   "outputs": [
    {
     "name": "stdout",
     "output_type": "stream",
     "text": [
      "['e']\n"
     ]
    }
   ],
   "source": [
    "# filename\n",
    "filename = \"testcase.txt\"\n",
    "\n",
    "# Test the function\n",
    "print(most_frequent_alpha_character(filename))  # Output could be ['e', 'n'] or similar\n"
   ]
  },
  {
   "cell_type": "code",
   "execution_count": null,
   "metadata": {},
   "outputs": [],
   "source": []
  }
 ],
 "metadata": {
  "kernelspec": {
   "display_name": "mlp",
   "language": "python",
   "name": "python3"
  },
  "language_info": {
   "codemirror_mode": {
    "name": "ipython",
    "version": 3
   },
   "file_extension": ".py",
   "mimetype": "text/x-python",
   "name": "python",
   "nbconvert_exporter": "python",
   "pygments_lexer": "ipython3",
   "version": "3.10.15"
  }
 },
 "nbformat": 4,
 "nbformat_minor": 2
}
