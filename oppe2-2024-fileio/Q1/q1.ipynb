{
 "cells": [
  {
   "cell_type": "markdown",
   "metadata": {},
   "source": [
    "# Question 1"
   ]
  },
  {
   "cell_type": "markdown",
   "metadata": {},
   "source": [
    "You are given a CSV file with following columns:\n",
    "\n",
    "ID,Name,Gender,Region,Q1,Q2,Q3,Q4\n",
    "\n",
    "- Each row in the file (except header) represents the record of sales representatives, \n",
    "- which includes their `ID, Name, Gender, Region where they operate, and their sales figure of each quarter`.\n",
    "\n",
    "The variable `filename` represents the name of the file. \n",
    "\n",
    "Define a function named `consistent_sales_increase` that takes filename as argument and that returns the **name of the region** with the highest count of representatives whose sales figures are consistently increasing across quarters, i.e. `Q1 < Q2 < Q3 < Q4`.\n",
    "\n",
    "if none of the representatives have this kind of behaviour for their region"
   ]
  },
  {
   "cell_type": "markdown",
   "metadata": {},
   "source": [
    "## Template Code!"
   ]
  },
  {
   "cell_type": "code",
   "execution_count": null,
   "metadata": {},
   "outputs": [],
   "source": [
    "def consistent_sales_increase(filename):\n",
    "    '''Return the name of the region with the highest count of representatives, \n",
    "    who have shown consistent sales growth across the quarters. i.e Q1<Q2<Q3<Q4\n",
    "\n",
    "    Args:\n",
    "        filename (str): path of the file. \n",
    "\n",
    "    Return:\n",
    "        str: Name of the region with highest count of such representatives. \n",
    "    '''\n",
    "    ..."
   ]
  },
  {
   "cell_type": "markdown",
   "metadata": {},
   "source": []
  },
  {
   "cell_type": "markdown",
   "metadata": {},
   "source": [
    "# Approach 1"
   ]
  },
  {
   "cell_type": "code",
   "execution_count": 3,
   "metadata": {},
   "outputs": [
    {
     "name": "stdout",
     "output_type": "stream",
     "text": [
      "North\n"
     ]
    }
   ],
   "source": [
    "def consistent_sales_increase(filename):\n",
    "    '''Return the name of the region with the highest count of representatives, \n",
    "    who have shown consistent sales growth across the quarters.\n",
    "\n",
    "    Args:\n",
    "        filename (str): path of the file. \n",
    "\n",
    "    Return:\n",
    "        str: Name of the region with highest count of such representatives. \n",
    "    '''\n",
    "\n",
    "    # dict to store key value -> Region & Count\n",
    "    region_count = {}\n",
    "\n",
    "    # open and read file\n",
    "    with open(filename, 'r') as file:\n",
    "        lines = file.readlines()\n",
    "\n",
    "        for line in lines[1:]:\n",
    "            columns = line.strip().split(\",\") # list\n",
    "\n",
    "            # extract the data\n",
    "            region = columns[3]\n",
    "            q1 , q2, q3, q4 = map(int, columns[4:])\n",
    "\n",
    "            # check if sales is consistently increasing or not  (Q1<Q2<Q3<Q4) and update region_count based on that\n",
    "            if q1<q2<q3<q4:\n",
    "                # update the count for the region\n",
    "                for region in region_count:\n",
    "                    region_count[region] += 1\n",
    "                else:\n",
    "                    region_count[region] = 1\n",
    "\n",
    "    max_region = max(region_count, key = region_count.get, default=\"No region found\")\n",
    "\n",
    "    return max_region\n",
    "\n",
    "\n",
    "filename = \"sales_data.csv\"\n",
    "\n",
    "print(consistent_sales_increase(filename))"
   ]
  },
  {
   "cell_type": "markdown",
   "metadata": {},
   "source": [
    "# Approach 2"
   ]
  },
  {
   "cell_type": "code",
   "execution_count": null,
   "metadata": {},
   "outputs": [
    {
     "name": "stdout",
     "output_type": "stream",
     "text": [
      "('North', 2)\n"
     ]
    }
   ],
   "source": [
    "import pandas as pd\n",
    "\n",
    "def consistent_sales_increase(filename):\n",
    "    '''Return the name of the region with the highest count of representatives, \n",
    "    who have shown consistent sales growth across the quarters.\n",
    "\n",
    "    Args:\n",
    "        filename (str): path of the file. \n",
    "\n",
    "    Return:\n",
    "        str: Name of the region with highest count of such representatives. \n",
    "    '''\n",
    "\n",
    "    # load data\n",
    "    df = pd.read_csv(filename)\n",
    "    df[\"consistent_growth\"] = (df['Q1'] < df['Q2']) & (df['Q2'] < df['Q3']) & (df['Q3']< df['Q4']) # true or False\n",
    "    cosistent_df = df[df[\"consistent_growth\"]]\n",
    "    region_count = cosistent_df['Region']. value_counts()\n",
    "    most_represenetative_region = region_count.idxmax()\n",
    "    highest_count = region_count.max()\n",
    "    return most_represenetative_region, highest_count\n",
    "\n",
    "filename = \"sales_data.csv\"\n",
    "print(consistent_sales_increase(filename))\n",
    "\n",
    "\n",
    "\n",
    "\n",
    "\n",
    "\n"
   ]
  },
  {
   "cell_type": "code",
   "execution_count": 14,
   "metadata": {},
   "outputs": [
    {
     "data": {
      "text/plain": [
       "Region\n",
       "North    2\n",
       "South    1\n",
       "East     1\n",
       "Name: count, dtype: int64"
      ]
     },
     "execution_count": 14,
     "metadata": {},
     "output_type": "execute_result"
    }
   ],
   "source": [
    "df = pd.read_csv(filename)\n",
    "df[\"consistent_growth\"] = (df['Q1'] < df['Q2']) & (df['Q2'] < df['Q3']) & (df['Q3']< df['Q4']) # true or False\n",
    "cosistent_df = df[df[\"consistent_growth\"]]\n",
    "\n",
    "region_count = cosistent_df['Region']. value_counts()\n",
    "\n",
    "region_count"
   ]
  },
  {
   "cell_type": "markdown",
   "metadata": {},
   "source": [
    "# Conclusion"
   ]
  },
  {
   "cell_type": "markdown",
   "metadata": {},
   "source": [
    "- Please Practice \n",
    "- Ask Queries In comments\n",
    "- If Liking the video and want more hit that subscribe button and bell icon as well as share with others\n",
    "- Notebook Will be provided in pinned comment for reference."
   ]
  }
 ],
 "metadata": {
  "kernelspec": {
   "display_name": "Python 3",
   "language": "python",
   "name": "python3"
  },
  "language_info": {
   "codemirror_mode": {
    "name": "ipython",
    "version": 3
   },
   "file_extension": ".py",
   "mimetype": "text/x-python",
   "name": "python",
   "nbconvert_exporter": "python",
   "pygments_lexer": "ipython3",
   "version": "3.10.11"
  }
 },
 "nbformat": 4,
 "nbformat_minor": 2
}
